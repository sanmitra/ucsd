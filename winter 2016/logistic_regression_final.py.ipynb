{
 "cells": [
  {
   "cell_type": "code",
   "execution_count": 1,
   "metadata": {
    "collapsed": false
   },
   "outputs": [],
   "source": [
    "from __future__   import division\n",
    "import numpy      as np\n",
    "import array\n",
    "import math\n",
    "import struct\n",
    "\n",
    "def read_mnist(images_file, labels_file):\n",
    "    \n",
    "    f1 = open(labels_file, 'rb')\n",
    "    magic_number, size = struct.unpack(\">II\", f1.read(8))\n",
    "    labels = array.array(\"b\", f1.read())\n",
    "    f1.close()\n",
    "    \n",
    "    print len([l for l in labels if l == 0])\n",
    "    \n",
    "    f2 = open(images_file, 'rb')\n",
    "    magic_number, size, rows, cols = struct.unpack(\">IIII\", f2.read(16))\n",
    "    raw_images = array.array(\"B\", f2.read())\n",
    "    f2.close()\n",
    "\n",
    "    N = len(labels)\n",
    "    images = np.zeros((N, rows*cols), dtype=np.uint8)\n",
    "    for i in range(N):\n",
    "        images[i] = np.array(raw_images[ i*rows*cols : (i+1)*rows*cols ])\n",
    "\n",
    "    print len([l for l in labels if l == 0])\n",
    "    \n",
    "    return images, labels"
   ]
  },
  {
   "cell_type": "code",
   "execution_count": 2,
   "metadata": {
    "collapsed": false
   },
   "outputs": [
    {
     "name": "stdout",
     "output_type": "stream",
     "text": [
      "5923\n",
      "5923\n",
      "980\n",
      "980\n"
     ]
    }
   ],
   "source": [
    "# Read Training data.\n",
    "TRAIN_IMAGES  = \"C:\\\\Users\\\\oop\\\\Desktop\\\\Winter 2016\\\\train-images.idx3-ubyte\"\n",
    "TRAIN_LABELS  = \"C:\\\\Users\\\\oop\\\\Desktop\\\\Winter 2016\\\\train-labels.idx1-ubyte\"\n",
    "images_train, labels_train = read_mnist(TRAIN_IMAGES, TRAIN_LABELS)\n",
    "images_train, labels_train = images_train[:20000], labels_train[:20000]\n",
    "\n",
    "# Read Test data.\n",
    "TEST_IMAGES = \"C:\\\\Users\\\\oop\\\\Desktop\\\\Winter 2016\\\\t10k-images.idx3-ubyte\"\n",
    "TEST_LABELS  = \"C:\\\\Users\\\\oop\\\\Desktop\\\\Winter 2016\\\\t10k-labels.idx1-ubyte\"\n",
    "images_test, labels_test = read_mnist(TEST_IMAGES, TEST_LABELS)\n",
    "images_test, labels_test = images_test[:2000], labels_test[:2000]"
   ]
  },
  {
   "cell_type": "code",
   "execution_count": 3,
   "metadata": {
    "collapsed": false
   },
   "outputs": [],
   "source": [
    "sigmoid = lambda x : 1/(1+math.exp(-x))"
   ]
  },
  {
   "cell_type": "code",
   "execution_count": 15,
   "metadata": {
    "collapsed": false
   },
   "outputs": [],
   "source": [
    "sigmoid_vector_fn = np.vectorize(sigmoid)\n",
    "def get_gradient(X, T, weight_vector):\n",
    "    Y = sigmoid_vector_fn(np.dot(X, weight_vector))\n",
    "    return np.dot(X.transpose(), T-Y)"
   ]
  },
  {
   "cell_type": "code",
   "execution_count": 169,
   "metadata": {
    "collapsed": true
   },
   "outputs": [],
   "source": [
    "def logistic_regression(X, T):\n",
    "    weight_vector = np.zeros(len(X[0]))\n",
    "    learning_rate = 0.000002/len(X)\n",
    "    for i in range(100):\n",
    "        weight_vector += learning_rate * get_gradient(X, T, weight_vector)\n",
    "    return weight_vector"
   ]
  },
  {
   "cell_type": "code",
   "execution_count": 170,
   "metadata": {
    "collapsed": false
   },
   "outputs": [],
   "source": [
    "X = np.array([np.insert(x, 0, 1) for x in images_train])\n",
    "T = [1 if label == 5 else 0 for label in labels_train]\n",
    "weight = logistic_regression(X, T)\n",
    "\n",
    "X = np.array([np.insert(x, 0, 1) for x in images_test])\n",
    "T = np.array([1 if label == 5 else 0 for label in labels_test])\n",
    "Y_prob = sigmoid_vector_fn(X.dot(weight))"
   ]
  },
  {
   "cell_type": "code",
   "execution_count": 171,
   "metadata": {
    "collapsed": false
   },
   "outputs": [
    {
     "name": "stdout",
     "output_type": "stream",
     "text": [
      "0.578551964793\n",
      "0.587379274257\n",
      "0.732460082219\n",
      "0.671137586202\n",
      "0.583678724207\n",
      "0.536302934359\n",
      "0.605067138509\n",
      "0.889364317389\n",
      "0.52581823171\n",
      "0.550501513562\n",
      "0.690399808771\n",
      "0.680886014109\n",
      "0.615982749307\n",
      "0.682317810704\n",
      "0.585948758785\n",
      "0.732953447278\n",
      "0.677115333541\n",
      "0.520715451746\n",
      "0.545918009674\n",
      "0.515455117544\n",
      "0.507452106342\n",
      "0.845714759076\n",
      "0.530862173207\n",
      "0.707535071754\n",
      "0.60101713502\n",
      "0.641169807703\n",
      "0.533264573761\n",
      "0.709852462706\n",
      "0.75382831147\n",
      "0.560325749274\n",
      "0.655821804683\n",
      "0.513122448733\n",
      "0.540267920996\n",
      "0.766286675046\n",
      "0.770552673559\n",
      "0.516747659001\n",
      "0.769410497875\n",
      "0.67117494816\n",
      "0.636360688056\n",
      "0.508186678994\n",
      "0.797390828051\n",
      "0.656111822736\n",
      "0.566519114294\n",
      "0.565420274802\n",
      "0.500314564306\n",
      "0.652528036235\n",
      "0.533764664676\n",
      "0.624098143958\n",
      "0.584247736002\n",
      "0.686446229381\n",
      "0.671698707317\n",
      "0.596921094092\n",
      "0.759851543238\n",
      "0.626130290965\n",
      "0.628918844293\n",
      "0.773911936064\n",
      "0.650786881784\n",
      "0.696727539248\n",
      "0.657849331648\n",
      "0.66917009206\n",
      "0.812298580936\n",
      "0.871628454715\n",
      "0.634110566919\n",
      "0.511865371922\n",
      "0.736464558422\n",
      "0.660400172385\n",
      "0.608918248824\n",
      "0.593468686184\n",
      "0.604901231696\n",
      "0.506966403196\n",
      "0.586953324666\n",
      "0.754732614639\n",
      "0.823885738859\n"
     ]
    }
   ],
   "source": [
    "for prob in Y_prob:\n",
    "    if prob >= 0.5:\n",
    "        print prob"
   ]
  },
  {
   "cell_type": "code",
   "execution_count": 172,
   "metadata": {
    "collapsed": false
   },
   "outputs": [],
   "source": [
    "def train():\n",
    "    X = np.array([np.insert(x, 0, 1) for x in images_train])\n",
    "    weights = []\n",
    "    for digit in range(10):\n",
    "        T = [1 if label == digit else 0 for label in labels_train]\n",
    "        weights.append(logistic_regression(X, T))\n",
    "    return np.array(weights)\n",
    "\n",
    "weights = train()"
   ]
  },
  {
   "cell_type": "code",
   "execution_count": 173,
   "metadata": {
    "collapsed": false
   },
   "outputs": [],
   "source": [
    "def test():\n",
    "    X = np.array([np.insert(x, 0, 1) for x in images_test])\n",
    "    \n",
    "    ############ Accuracy calculations for each 10 2-way classifications #############\n",
    "    Y_probs = []\n",
    "    for digit in range(10):\n",
    "        T = np.array([1 if label == digit else 0 for label in labels_test])\n",
    "        Y_prob = sigmoid_vector_fn(X.dot(weights[digit]))\n",
    "        Y_probs.append(Y_prob)\n",
    "        Y = np.array([1 if Y_prob[i] >= 0.5 else 0 for i in range(len(X))])\n",
    "        correct_count = sum([Y[i] == T[i] for i in range(len(Y))])\n",
    "        print \"Accuracy for digit {\" + str(digit) + \"} classification is \" + str(correct_count * 100.0 / len(X))\n",
    "    \n",
    "    ############ Accuracy calculations for each 10 2-way classifications #############\n",
    "    Y_probs = np.array(Y_probs).transpose()\n",
    "    correct_count = sum([prob_list.argmax() == labels_test[i] for i, prob_list in enumerate(Y_probs)])\n",
    "    print \"Total accuracy is \" + str(correct_count * 100.0 / len(X))"
   ]
  },
  {
   "cell_type": "code",
   "execution_count": 174,
   "metadata": {
    "collapsed": false
   },
   "outputs": [
    {
     "name": "stdout",
     "output_type": "stream",
     "text": [
      "Accuracy for digit {0} classification is 98.0\n",
      "Accuracy for digit {1} classification is 98.5\n",
      "Accuracy for digit {2} classification is 95.1\n",
      "Accuracy for digit {3} classification is 95.7\n",
      "Accuracy for digit {4} classification is 96.0\n",
      "Accuracy for digit {5} classification is 94.2\n",
      "Accuracy for digit {6} classification is 96.6\n",
      "Accuracy for digit {7} classification is 96.2\n",
      "Accuracy for digit {8} classification is 91.2\n",
      "Accuracy for digit {9} classification is 94.5\n",
      "Total accuracy is 82.55\n"
     ]
    }
   ],
   "source": [
    "test()"
   ]
  },
  {
   "cell_type": "code",
   "execution_count": null,
   "metadata": {
    "collapsed": false
   },
   "outputs": [],
   "source": []
  },
  {
   "cell_type": "code",
   "execution_count": null,
   "metadata": {
    "collapsed": true
   },
   "outputs": [],
   "source": []
  }
 ],
 "metadata": {
  "kernelspec": {
   "display_name": "Python 2",
   "language": "python",
   "name": "python2"
  },
  "language_info": {
   "codemirror_mode": {
    "name": "ipython",
    "version": 2
   },
   "file_extension": ".py",
   "mimetype": "text/x-python",
   "name": "python",
   "nbconvert_exporter": "python",
   "pygments_lexer": "ipython2",
   "version": "2.7.10"
  }
 },
 "nbformat": 4,
 "nbformat_minor": 0
}
