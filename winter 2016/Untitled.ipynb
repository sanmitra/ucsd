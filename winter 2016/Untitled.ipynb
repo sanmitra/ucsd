{
 "cells": [
  {
   "cell_type": "code",
   "execution_count": 140,
   "metadata": {
    "collapsed": true
   },
   "outputs": [],
   "source": [
    "from random import choice \n",
    "from numpy import array, dot, random"
   ]
  },
  {
   "cell_type": "code",
   "execution_count": 141,
   "metadata": {
    "collapsed": true
   },
   "outputs": [],
   "source": [
    "training_data = [ (array([0,0,1]), 1), (array([0,1,1]), 1), (array([1,0,1]), 1), (array([1,1,1]), 0), ]"
   ]
  },
  {
   "cell_type": "code",
   "execution_count": 142,
   "metadata": {
    "collapsed": true
   },
   "outputs": [],
   "source": [
    "errors = []\n",
    "eta = 1\n",
    "n = 100"
   ]
  },
  {
   "cell_type": "code",
   "execution_count": 143,
   "metadata": {
    "collapsed": true
   },
   "outputs": [],
   "source": [
    "w = [0,0,0]\n",
    "unit_step = lambda x: 1 if x >= 0 else 0"
   ]
  },
  {
   "cell_type": "code",
   "execution_count": 144,
   "metadata": {
    "collapsed": false
   },
   "outputs": [
    {
     "name": "stdout",
     "output_type": "stream",
     "text": [
      "0 0 0 1 0 0 0\n",
      "1 1 0 0 -1 -1 1\n",
      "0 0 -1 1 -1 -1 0\n",
      "1 0 -1 1 0 -1 -1\n",
      "0 1 0 1 0 -1 -1\n",
      "1 0 1 1 0 -1 -1\n",
      "1 1 0 0 -1 -2 0\n",
      "0 1 -2 1 -1 -1 -1\n",
      "0 1 0 1 -1 -1 -1\n",
      "1 1 -1 0 -1 -1 -1\n"
     ]
    }
   ],
   "source": [
    "for i in xrange(10):\n",
    "    x, expected = choice(training_data)\n",
    "    \n",
    "    result = dot(w, x) \n",
    "    error = expected - unit_step(result) \n",
    "    errors.append(error)\n",
    "    w += eta * error * x\n",
    "    if [sum(data[0] * w) >= 0 for data in training_data] == [True, True, True, False]:\n",
    "        pass\n",
    "    print x[0], x[1], result, expected, w[0], w[1], -w[2]"
   ]
  },
  {
   "cell_type": "code",
   "execution_count": 145,
   "metadata": {
    "collapsed": false
   },
   "outputs": [
    {
     "data": {
      "text/plain": [
       "True"
      ]
     },
     "execution_count": 145,
     "metadata": {},
     "output_type": "execute_result"
    }
   ],
   "source": [
    "[sum(data[0] * w) >= 0 for data in training_data] == [True, True, True, False]"
   ]
  },
  {
   "cell_type": "code",
   "execution_count": null,
   "metadata": {
    "collapsed": false
   },
   "outputs": [],
   "source": []
  },
  {
   "cell_type": "code",
   "execution_count": null,
   "metadata": {
    "collapsed": true
   },
   "outputs": [],
   "source": []
  }
 ],
 "metadata": {
  "kernelspec": {
   "display_name": "Python 2",
   "language": "python",
   "name": "python2"
  },
  "language_info": {
   "codemirror_mode": {
    "name": "ipython",
    "version": 2
   },
   "file_extension": ".py",
   "mimetype": "text/x-python",
   "name": "python",
   "nbconvert_exporter": "python",
   "pygments_lexer": "ipython2",
   "version": "2.7.10"
  }
 },
 "nbformat": 4,
 "nbformat_minor": 0
}
