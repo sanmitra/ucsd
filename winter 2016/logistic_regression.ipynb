{
 "cells": [
  {
   "cell_type": "code",
   "execution_count": 10,
   "metadata": {
    "collapsed": false
   },
   "outputs": [],
   "source": [
    "from __future__   import division\n",
    "import numpy      as np\n",
    "import array\n",
    "import math\n",
    "import struct\n",
    "\n",
    "def read_mnist(images_file, labels_file): \n",
    "    f1 = open(labels_file, 'rb')\n",
    "    magic_number, size = struct.unpack(\">II\", f1.read(8))\n",
    "    labels = array.array(\"b\", f1.read())\n",
    "    f1.close()\n",
    "    \n",
    "    f2 = open(images_file, 'rb')\n",
    "    magic_number, size, rows, cols = struct.unpack(\">IIII\", f2.read(16))\n",
    "    raw_images = array.array(\"B\", f2.read())\n",
    "    f2.close()\n",
    "\n",
    "    N = len(labels)\n",
    "    images = np.zeros((N, rows*cols), dtype=np.uint8)\n",
    "    for i in range(N):\n",
    "        images[i] = np.array(raw_images[ i*rows*cols : (i+1)*rows*cols ])\n",
    "\n",
    "    return images, labels"
   ]
  },
  {
   "cell_type": "code",
   "execution_count": 11,
   "metadata": {
    "collapsed": false
   },
   "outputs": [],
   "source": [
    "# Read Training data.\n",
    "TRAIN_IMAGES  = \"C:\\\\Users\\\\oop\\\\Desktop\\\\Winter 2016\\\\train-images.idx3-ubyte\"\n",
    "TRAIN_LABELS  = \"C:\\\\Users\\\\oop\\\\Desktop\\\\Winter 2016\\\\train-labels.idx1-ubyte\"\n",
    "images_train, labels_train = read_mnist(TRAIN_IMAGES, TRAIN_LABELS)\n",
    "images_train, labels_train = images_train[:20000], labels_train[:20000]\n",
    "\n",
    "# Read Test data.\n",
    "TEST_IMAGES = \"C:\\\\Users\\\\oop\\\\Desktop\\\\Winter 2016\\\\t10k-images.idx3-ubyte\"\n",
    "TEST_LABELS  = \"C:\\\\Users\\\\oop\\\\Desktop\\\\Winter 2016\\\\t10k-labels.idx1-ubyte\"\n",
    "images_test, labels_test = read_mnist(TEST_IMAGES, TEST_LABELS)\n",
    "images_test, labels_test = images_test[:2000], labels_test[:2000]"
   ]
  },
  {
   "cell_type": "code",
   "execution_count": 12,
   "metadata": {
    "collapsed": false
   },
   "outputs": [],
   "source": [
    "sigmoid = lambda x : 1/(1+math.exp(-x))"
   ]
  },
  {
   "cell_type": "code",
   "execution_count": 13,
   "metadata": {
    "collapsed": false
   },
   "outputs": [],
   "source": [
    "sigmoid_vector_fn = np.vectorize(sigmoid)\n",
    "def get_gradient(X, T, weight_vector):\n",
    "    Y = sigmoid_vector_fn(np.dot(X, weight_vector))\n",
    "    return np.dot(X.transpose(), T-Y)"
   ]
  },
  {
   "cell_type": "code",
   "execution_count": 14,
   "metadata": {
    "collapsed": true
   },
   "outputs": [],
   "source": [
    "def logistic_regression(X, T):\n",
    "    weight_vector = np.zeros(len(X[0]))\n",
    "    learning_rate = 0.000002/len(X)\n",
    "    for i in range(400):\n",
    "        weight_vector += learning_rate * get_gradient(X, T, weight_vector)\n",
    "    return weight_vector"
   ]
  },
  {
   "cell_type": "code",
   "execution_count": 15,
   "metadata": {
    "collapsed": false
   },
   "outputs": [],
   "source": [
    "def train():\n",
    "    X = np.array([np.insert(x, 0, 1) for x in images_train])\n",
    "    weights = []\n",
    "    for digit in range(10):\n",
    "        T = [1 if label == digit else 0 for label in labels_train]\n",
    "        weights.append(logistic_regression(X, T))\n",
    "    return np.array(weights)"
   ]
  },
  {
   "cell_type": "code",
   "execution_count": 16,
   "metadata": {
    "collapsed": false
   },
   "outputs": [],
   "source": [
    "def test():\n",
    "    weights = train()\n",
    "    X = np.array([np.insert(x, 0, 1) for x in images_test])\n",
    "    \n",
    "    ############ Accuracy calculations for each 10 2-way classifications #############\n",
    "    Y_probs = []\n",
    "    for digit in range(10):\n",
    "        T = np.array([1 if label == digit else 0 for label in labels_test])\n",
    "        Y_prob = sigmoid_vector_fn(X.dot(weights[digit]))\n",
    "        Y_probs.append(Y_prob)\n",
    "        Y = np.array([1 if Y_prob[i] >= 0.5 else 0 for i in range(len(X))])\n",
    "        correct_count = sum([Y[i] == T[i] for i in range(len(Y))])\n",
    "        print \"Accuracy for digit {\" + str(digit) + \"} classification is \" + \\\n",
    "              str(correct_count * 100.0 / len(X))\n",
    "    \n",
    "    ############ Accuracy calculations for each 10 2-way classifications #############\n",
    "    Y_probs = np.array(Y_probs).transpose()\n",
    "    correct_count = sum([prob_list.argmax() == labels_test[i] \n",
    "                         for i, prob_list in enumerate(Y_probs)])\n",
    "    print \"Total accuracy is \" + str(correct_count * 100.0 / len(X))"
   ]
  },
  {
   "cell_type": "code",
   "execution_count": 17,
   "metadata": {
    "collapsed": false
   },
   "outputs": [
    {
     "name": "stdout",
     "output_type": "stream",
     "text": [
      "Accuracy for digit {0} classification is 98.6\n",
      "Accuracy for digit {1} classification is 98.75\n",
      "Accuracy for digit {2} classification is 96.65\n",
      "Accuracy for digit {3} classification is 96.6\n",
      "Accuracy for digit {4} classification is 96.95\n",
      "Accuracy for digit {5} classification is 96.1\n",
      "Accuracy for digit {6} classification is 97.1\n",
      "Accuracy for digit {7} classification is 96.75\n",
      "Accuracy for digit {8} classification is 92.7\n",
      "Accuracy for digit {9} classification is 95.1\n",
      "Total accuracy is 86.05\n"
     ]
    }
   ],
   "source": [
    "test()"
   ]
  },
  {
   "cell_type": "code",
   "execution_count": null,
   "metadata": {
    "collapsed": false
   },
   "outputs": [],
   "source": []
  },
  {
   "cell_type": "code",
   "execution_count": null,
   "metadata": {
    "collapsed": false
   },
   "outputs": [],
   "source": []
  },
  {
   "cell_type": "code",
   "execution_count": null,
   "metadata": {
    "collapsed": false
   },
   "outputs": [],
   "source": []
  },
  {
   "cell_type": "code",
   "execution_count": null,
   "metadata": {
    "collapsed": true
   },
   "outputs": [],
   "source": []
  }
 ],
 "metadata": {
  "kernelspec": {
   "display_name": "Python 2",
   "language": "python",
   "name": "python2"
  },
  "language_info": {
   "codemirror_mode": {
    "name": "ipython",
    "version": 2
   },
   "file_extension": ".py",
   "mimetype": "text/x-python",
   "name": "python",
   "nbconvert_exporter": "python",
   "pygments_lexer": "ipython2",
   "version": "2.7.10"
  }
 },
 "nbformat": 4,
 "nbformat_minor": 0
}
