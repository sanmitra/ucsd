{
 "cells": [
  {
   "cell_type": "code",
   "execution_count": 12,
   "metadata": {
    "collapsed": false
   },
   "outputs": [],
   "source": [
    "from __future__   import division\n",
    "from array        import array as pyarray\n",
    "from numpy        import append, array, int8, uint8, zeros, arange, vectorize, dot, random, insert\n",
    "from decimal      import Decimal\n",
    "import math\n",
    "import os, struct\n",
    "\n",
    "def read_mnist(images_file, labels_file, digits=arange(10)):\n",
    "    \n",
    "    flbl = open(labels_file, 'rb')\n",
    "    magic_nr, size = struct.unpack(\">II\", flbl.read(8))\n",
    "    lbl = pyarray(\"b\", flbl.read())\n",
    "    flbl.close()\n",
    "    \n",
    "    print len([l for l in lbl if l == 0])\n",
    "    \n",
    "    fimg = open(images_file, 'rb')\n",
    "    magic_nr, size, rows, cols = struct.unpack(\">IIII\", fimg.read(16))\n",
    "    img = pyarray(\"B\", fimg.read())\n",
    "    fimg.close()\n",
    "\n",
    "    N = len(lbl)\n",
    "    images = zeros((N, rows*cols), dtype=uint8)\n",
    "    labels = zeros(N, dtype=int8)\n",
    "    for i in range(N):\n",
    "        images[i] = array(img[ i*rows*cols : (i+1)*rows*cols ])\n",
    "        labels[i] = lbl[i]\n",
    "    \n",
    "    print len([l for l in labels if l == 0])\n",
    "    \n",
    "    return images, labels"
   ]
  },
  {
   "cell_type": "code",
   "execution_count": 2,
   "metadata": {
    "collapsed": false
   },
   "outputs": [
    {
     "name": "stdout",
     "output_type": "stream",
     "text": [
      "5923\n",
      "5923\n",
      "980\n",
      "980\n"
     ]
    }
   ],
   "source": [
    "# Train data.\n",
    "TRAIN_IMAGES  = \"C:\\\\Users\\\\oop\\\\Desktop\\\\Winter 2016\\\\train-images.idx3-ubyte\"\n",
    "TRAIN_LABELS  = \"C:\\\\Users\\\\oop\\\\Desktop\\\\Winter 2016\\\\train-labels.idx1-ubyte\"\n",
    "images_train, labels_train = read_mnist(TRAIN_IMAGES, TRAIN_LABELS)\n",
    "images_train, labels_train = images_train[:20000], labels_train[:20000]\n",
    "\n",
    "# Testing.\n",
    "TEST_IMAGES = \"C:\\\\Users\\\\oop\\\\Desktop\\\\Winter 2016\\\\t10k-images.idx3-ubyte\"\n",
    "TEST_LABELS  = \"C:\\\\Users\\\\oop\\\\Desktop\\\\Winter 2016\\\\t10k-labels.idx1-ubyte\"\n",
    "images, labels = read_mnist(TEST_IMAGES, TEST_LABELS)\n",
    "images, labels = images[:2000], labels[:2000]\n"
   ]
  },
  {
   "cell_type": "code",
   "execution_count": 19,
   "metadata": {
    "collapsed": false
   },
   "outputs": [],
   "source": [
    "lamb = 1\n",
    "\n",
    "def sigmoid(Z):\n",
    "    return math.pow(1 + math.exp(-Z), -1)\n",
    "\n",
    "def get_gradient(X, T, weight):\n",
    "    fn = vectorize(sigmoid)\n",
    "    return (lamb * weight + dot(X.transpose(), T - fn(dot(X, weight))))/len(X)\n",
    "\n",
    "def get_cross_entropy_loss(X, T, weight):\n",
    "    loss = 0\n",
    "    for n in range(len(X)):\n",
    "        yn = sigmoid((weight * X[n]).sum())\n",
    "        loss += T[n] * math.log(yn) + (1- T[n]) * math.log(1 - yn)\n",
    "    return -(1/len(X)) * (loss + lamb/2 * sum([w*w for w in weight]))\n",
    "\n",
    "def logistic_regression_gradient_descent(X, T):\n",
    "    X = array([insert(x, 0, 1) for x in X])\n",
    "    learning_rate = 0.00000002 / len(X)\n",
    "    weight = zeros(28*28+1)\n",
    "    losses = []\n",
    "    for i in range(100):\n",
    "        weight = weight + learning_rate * get_gradient(X, T, weight)\n",
    "        #loss = get_cross_entropy_loss(X, T, weight)\n",
    "        #losses.append(loss)\n",
    "        if len(losses) > 2 and math.fabs(losses[-1] - losses[-2]) <= 1:\n",
    "            break\n",
    "    return weight"
   ]
  },
  {
   "cell_type": "code",
   "execution_count": 20,
   "metadata": {
    "collapsed": false
   },
   "outputs": [],
   "source": [
    "# Training.\n",
    "weights = []\n",
    "for i in range(10):\n",
    "    T = [1 if label == i else 0 for label in labels_train]\n",
    "    weights.append(logistic_regression_gradient_descent(images_train, T))\n",
    "weights = array(weights)"
   ]
  },
  {
   "cell_type": "code",
   "execution_count": 11,
   "metadata": {
    "collapsed": false
   },
   "outputs": [
    {
     "data": {
      "text/plain": [
       "784"
      ]
     },
     "execution_count": 11,
     "metadata": {},
     "output_type": "execute_result"
    }
   ],
   "source": [
    "len(weights[0])"
   ]
  },
  {
   "cell_type": "code",
   "execution_count": 8,
   "metadata": {
    "collapsed": false
   },
   "outputs": [
    {
     "data": {
      "text/plain": [
       "-3.2758776885250962e-05"
      ]
     },
     "execution_count": 8,
     "metadata": {},
     "output_type": "execute_result"
    }
   ],
   "source": [
    "sum(weights[0][:100])"
   ]
  },
  {
   "cell_type": "code",
   "execution_count": null,
   "metadata": {
    "collapsed": false
   },
   "outputs": [],
   "source": []
  },
  {
   "cell_type": "code",
   "execution_count": 1,
   "metadata": {
    "collapsed": false
   },
   "outputs": [
    {
     "ename": "NameError",
     "evalue": "name 'images' is not defined",
     "output_type": "error",
     "traceback": [
      "\u001b[1;31m---------------------------------------------------------------------------\u001b[0m",
      "\u001b[1;31mNameError\u001b[0m                                 Traceback (most recent call last)",
      "\u001b[1;32m<ipython-input-1-a6757f44202c>\u001b[0m in \u001b[0;36m<module>\u001b[1;34m()\u001b[0m\n\u001b[0;32m      5\u001b[0m \u001b[1;32mfor\u001b[0m \u001b[0mi\u001b[0m \u001b[1;32min\u001b[0m \u001b[0mrange\u001b[0m\u001b[1;33m(\u001b[0m\u001b[1;36m10\u001b[0m\u001b[1;33m)\u001b[0m\u001b[1;33m:\u001b[0m\u001b[1;33m\u001b[0m\u001b[0m\n\u001b[0;32m      6\u001b[0m     \u001b[0merror_count\u001b[0m \u001b[1;33m=\u001b[0m \u001b[1;36m0\u001b[0m\u001b[1;33m\u001b[0m\u001b[0m\n\u001b[1;32m----> 7\u001b[1;33m     \u001b[1;32mfor\u001b[0m \u001b[0mn\u001b[0m \u001b[1;32min\u001b[0m \u001b[0mrange\u001b[0m\u001b[1;33m(\u001b[0m\u001b[0mlen\u001b[0m\u001b[1;33m(\u001b[0m\u001b[0mimages\u001b[0m\u001b[1;33m)\u001b[0m\u001b[1;33m)\u001b[0m\u001b[1;33m:\u001b[0m\u001b[1;33m\u001b[0m\u001b[0m\n\u001b[0m\u001b[0;32m      8\u001b[0m         \u001b[0mprob\u001b[0m \u001b[1;33m=\u001b[0m \u001b[0msigmoid\u001b[0m\u001b[1;33m(\u001b[0m\u001b[1;33m(\u001b[0m\u001b[0mweights\u001b[0m\u001b[1;33m[\u001b[0m\u001b[0mi\u001b[0m\u001b[1;33m]\u001b[0m \u001b[1;33m*\u001b[0m \u001b[0minsert\u001b[0m\u001b[1;33m(\u001b[0m\u001b[0mimages\u001b[0m\u001b[1;33m[\u001b[0m\u001b[0mn\u001b[0m\u001b[1;33m]\u001b[0m\u001b[1;33m,\u001b[0m \u001b[1;36m0\u001b[0m\u001b[1;33m,\u001b[0m \u001b[1;36m1\u001b[0m\u001b[1;33m)\u001b[0m\u001b[1;33m)\u001b[0m\u001b[1;33m.\u001b[0m\u001b[0msum\u001b[0m\u001b[1;33m(\u001b[0m\u001b[1;33m)\u001b[0m\u001b[1;33m)\u001b[0m\u001b[1;33m\u001b[0m\u001b[0m\n\u001b[0;32m      9\u001b[0m         \u001b[0mprediction\u001b[0m \u001b[1;33m=\u001b[0m \u001b[1;36m1\u001b[0m \u001b[1;32mif\u001b[0m \u001b[0mprob\u001b[0m \u001b[1;33m>=\u001b[0m \u001b[1;36m0.5\u001b[0m \u001b[1;32melse\u001b[0m \u001b[1;36m0\u001b[0m\u001b[1;33m\u001b[0m\u001b[0m\n",
      "\u001b[1;31mNameError\u001b[0m: name 'images' is not defined"
     ]
    }
   ],
   "source": [
    "\n",
    "#weights = [zeros(28*28)]*10\n",
    "\n",
    "# Report the test accuracy for each of the 10 two-way classifications.\n",
    "for i in range(10):\n",
    "    error_count = 0\n",
    "    for n in range(len(images)):\n",
    "        prob = sigmoid((weights[i] * insert(images[n], 0, 1)).sum())\n",
    "        prediction = 1 if prob >= 0.5 else 0\n",
    "        if prediction != (i==labels[n]):\n",
    "            error_count += 1\n",
    "    print \"Test accuracy for digit {\" + str(i) + \"} classification is : \" + str(100 - error_count*100/len(images))\n",
    "\n",
    "# Report the overall test accuracy.\n",
    "error_count = 0\n",
    "for n in range(len(images)):\n",
    "    probs = array([sigmoid((weights[i] * insert(images[n], 0, 1)).sum()) \n",
    "                   for i in range(10)])\n",
    "    predicted_digit = probs.argmax()\n",
    "    #print probs\n",
    "    if predicted_digit != labels[n]:\n",
    "        error_count += 1\n",
    "print \"Overall test accuracy is \" + str(100 - error_count * 100/ len(images))"
   ]
  },
  {
   "cell_type": "code",
   "execution_count": null,
   "metadata": {
    "collapsed": false
   },
   "outputs": [],
   "source": []
  },
  {
   "cell_type": "code",
   "execution_count": 36,
   "metadata": {
    "collapsed": false
   },
   "outputs": [
    {
     "data": {
      "text/plain": [
       "2000"
      ]
     },
     "execution_count": 36,
     "metadata": {},
     "output_type": "execute_result"
    }
   ],
   "source": [
    "len(images)"
   ]
  },
  {
   "cell_type": "code",
   "execution_count": null,
   "metadata": {
    "collapsed": true
   },
   "outputs": [],
   "source": []
  }
 ],
 "metadata": {
  "kernelspec": {
   "display_name": "Python 2",
   "language": "python",
   "name": "python2"
  },
  "language_info": {
   "codemirror_mode": {
    "name": "ipython",
    "version": 2
   },
   "file_extension": ".py",
   "mimetype": "text/x-python",
   "name": "python",
   "nbconvert_exporter": "python",
   "pygments_lexer": "ipython2",
   "version": "2.7.10"
  }
 },
 "nbformat": 4,
 "nbformat_minor": 0
}
