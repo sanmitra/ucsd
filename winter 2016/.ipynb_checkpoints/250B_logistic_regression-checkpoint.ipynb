{
 "cells": [
  {
   "cell_type": "code",
   "execution_count": 1,
   "metadata": {
    "collapsed": false
   },
   "outputs": [],
   "source": [
    "from __future__          import division\n",
    "from scipy.stats         import logistic\n",
    "import numpy             as np\n",
    "import matplotlib.cm     as cm\n",
    "import matplotlib.pyplot as plt\n",
    "import math\n",
    "%matplotlib inline"
   ]
  },
  {
   "cell_type": "code",
   "execution_count": 2,
   "metadata": {
    "collapsed": false
   },
   "outputs": [],
   "source": [
    "def get_gradient(X, Y, w):\n",
    "    return np.dot(X.transpose(), \n",
    "                  Y * logistic.cdf(-1* Y * np.dot(X, w.transpose())))\n",
    "\n",
    "def get_lositic_regression_loss(X, Y, w):\n",
    "    loss_arr = np.log(logistic.cdf(Y * np.dot(X, w.transpose()))) * -1\n",
    "    return loss_arr.sum()\n",
    "\n",
    "def logistic_regression_gradient_descent(X, Y, \n",
    "                                         learning_rate=0.01, \n",
    "                                         threshold = 0.001):\n",
    "    w = np.zeros(X[0].shape)\n",
    "    losses = []\n",
    "    i = 0\n",
    "    while True:\n",
    "        w = w + learning_rate * get_gradient(X, Y, w)\n",
    "        loss = get_lositic_regression_loss(X, Y, w)\n",
    "        losses.append(loss)\n",
    "        if len(losses) >= 2 and \\\n",
    "            math.fabs(losses[-1]-losses[-2]) <= threshold:\n",
    "            break\n",
    "        i = i + 1\n",
    "    print \"Final Regression loss: \" + str(losses[-1])\n",
    "    print \"Iterations: \" + str(i)\n",
    "    return w"
   ]
  },
  {
   "cell_type": "code",
   "execution_count": 3,
   "metadata": {
    "collapsed": false
   },
   "outputs": [],
   "source": [
    "def plot_decision_boundary(X, Y, fig=\"default.png\"):\n",
    "    X1 = [xx[0] for xx in X]\n",
    "    X2 = [xx[1] for xx in X]\n",
    "    X = np.array([np.insert(xx, 0, 1) for xx in X])\n",
    "    w = logistic_regression_gradient_descent(X, Y)\n",
    "    print \"Weights :\" ; print w\n",
    "    print \"Predictions: \"\n",
    "    print [1 if logistic.cdf(np.dot(w,xx)) > 0.5 \n",
    "           else -1 \n",
    "           for xx in X]\n",
    "    plt.scatter(X1, X2, c=Y)\n",
    "    plt.xlabel('X1')\n",
    "    plt.ylabel('X2')\n",
    "    plt.plot([0, -w[0]/w[1]], [-w[0]/w[2], 0])\n",
    "    plt.show()\n",
    "    plt.savefig(fig)"
   ]
  },
  {
   "cell_type": "code",
   "execution_count": 4,
   "metadata": {
    "collapsed": false
   },
   "outputs": [
    {
     "name": "stdout",
     "output_type": "stream",
     "text": [
      "Final Regression loss: 0.981760073095\n",
      "Iterations: 864\n",
      "Weights :\n",
      "[-4.97620372  1.60844967  0.1296038 ]\n",
      "Predictions: \n",
      "[-1, -1, -1, 1, 1, 1]\n"
     ]
    },
    {
     "name": "stderr",
     "output_type": "stream",
     "text": [
      "C:\\Anaconda\\lib\\site-packages\\matplotlib\\collections.py:590: FutureWarning: elementwise comparison failed; returning scalar instead, but in the future will perform elementwise comparison\n",
      "  if self._edgecolors == str('face'):\n"
     ]
    },
    {
     "data": {
      "image/png": "[encoded data removed]",
      "text/plain": [
       "<matplotlib.figure.Figure at 0x15716cc0>"
      ]
     },
     "metadata": {},
     "output_type": "display_data"
    },
    {
     "data": {
      "text/plain": [
       "<matplotlib.figure.Figure at 0x159f2be0>"
      ]
     },
     "metadata": {},
     "output_type": "display_data"
    }
   ],
   "source": [
    "# B PART.\n",
    "X = np.array(\n",
    "        [np.array([2, 1]), \n",
    "         np.array([1, 20]),\n",
    "         np.array([1, 5]),\n",
    "         np.array([4, 1]), \n",
    "         np.array([1, 40]),\n",
    "         np.array([3, 30])]\n",
    "    )\n",
    "Y = np.array([-1,-1,-1,1,1,1])\n",
    "plot_decision_boundary(X, Y, \"fig1.png\")"
   ]
  },
  {
   "cell_type": "code",
   "execution_count": 5,
   "metadata": {
    "collapsed": false,
    "scrolled": true
   },
   "outputs": [
    {
     "name": "stdout",
     "output_type": "stream",
     "text": [
      "Final Regression loss: 1.25642997575\n",
      "Iterations: 821\n",
      "Weights :\n",
      "[-4.02840682  1.3597792   1.04597246]\n",
      "Predictions: \n",
      "[-1, -1, -1, 1, 1, 1]\n"
     ]
    },
    {
     "data": {
      "image/png": "[encoded data removed]",
      "text/plain": [
       "<matplotlib.figure.Figure at 0x158ad8d0>"
      ]
     },
     "metadata": {},
     "output_type": "display_data"
    },
    {
     "data": {
      "text/plain": [
       "<matplotlib.figure.Figure at 0x15cf8d68>"
      ]
     },
     "metadata": {},
     "output_type": "display_data"
    }
   ],
   "source": [
    "# C PART.\n",
    "X_scaled = np.array(\n",
    "        [np.array([2, 1/10]), \n",
    "         np.array([1, 20/10]),\n",
    "         np.array([1, 5/10]),\n",
    "         np.array([4, 1/10]), \n",
    "         np.array([1, 40/10]),\n",
    "         np.array([3, 30/10])]\n",
    "    )\n",
    "Y = np.array([-1,-1,-1,1,1,1])\n",
    "plot_decision_boundary(X_scaled, Y, \"fig2.png\")"
   ]
  },
  {
   "cell_type": "code",
   "execution_count": 6,
   "metadata": {
    "collapsed": false
   },
   "outputs": [
    {
     "name": "stdout",
     "output_type": "stream",
     "text": [
      "Final Regression loss: 1.54590138923\n",
      "Iterations: 1216\n",
      "Weights :\n",
      "[-12.81748824   2.81356871   1.09234822]\n",
      "Predictions: \n",
      "[-1, -1, -1, -1, -1, -1, -1, -1, -1, -1, -1, -1, -1, -1, -1, -1, -1, -1, -1, -1, -1, -1, -1, -1, -1, -1, -1, -1, -1, -1, -1, -1, -1, -1, -1, -1, -1, -1, -1, -1, -1, -1, -1, -1, -1, -1, -1, -1, -1, -1, 1, 1, 1, 1, 1, 1, 1, 1, 1, 1, 1, 1, 1, 1, 1, 1, 1, 1, 1, 1, 1, 1, 1, 1, 1, 1, 1, 1, 1, 1, 1, 1, 1, 1, 1, 1, 1, 1, 1, 1, 1, 1, 1, 1, 1, 1, 1, 1, 1, 1]\n"
     ]
    },
    {
     "data": {
      "image/png": "[encoded data removed]",
      "text/plain": [
       "<matplotlib.figure.Figure at 0x15a99ba8>"
      ]
     },
     "metadata": {},
     "output_type": "display_data"
    },
    {
     "data": {
      "text/plain": [
       "<matplotlib.figure.Figure at 0x16074c50>"
      ]
     },
     "metadata": {},
     "output_type": "display_data"
    }
   ],
   "source": [
    "# D PART\n",
    "from numpy.random import multivariate_normal\n",
    "\n",
    "# Generate points of type -1 using bivaraite guassian.\n",
    "X1, X2 = multivariate_normal(mean=[1,3], cov=[[1, 0],[0,1]], size=50).T\n",
    "X_Label1 = [np.array(xx) for xx in zip(X1, X2)]\n",
    "\n",
    "# Generate points of type 1 using bivaraite guassian.\n",
    "X1, X2 = multivariate_normal(mean=[5,5], cov=[[1, 0],[0,1]], size=50).T\n",
    "X_Label2 = [np.array(xx) for xx in zip(X1, X2)]\n",
    "\n",
    "X  = np.array(X_Label1 + X_Label2)\n",
    "Y = np.array([-1] * 50 + [1] * 50)\n",
    "\n",
    "plot_decision_boundary(X, Y, \"fig2.png\")"
   ]
  },
  {
   "cell_type": "code",
   "execution_count": null,
   "metadata": {
    "collapsed": false
   },
   "outputs": [],
   "source": []
  },
  {
   "cell_type": "code",
   "execution_count": null,
   "metadata": {
    "collapsed": false
   },
   "outputs": [],
   "source": []
  },
  {
   "cell_type": "code",
   "execution_count": null,
   "metadata": {
    "collapsed": false
   },
   "outputs": [],
   "source": []
  },
  {
   "cell_type": "code",
   "execution_count": null,
   "metadata": {
    "collapsed": false
   },
   "outputs": [],
   "source": []
  },
  {
   "cell_type": "code",
   "execution_count": null,
   "metadata": {
    "collapsed": true
   },
   "outputs": [],
   "source": []
  }
 ],
 "metadata": {
  "kernelspec": {
   "display_name": "Python 2",
   "language": "python",
   "name": "python2"
  },
  "language_info": {
   "codemirror_mode": {
    "name": "ipython",
    "version": 2
   },
   "file_extension": ".py",
   "mimetype": "text/x-python",
   "name": "python",
   "nbconvert_exporter": "python",
   "pygments_lexer": "ipython2",
   "version": "2.7.10"
  }
 },
 "nbformat": 4,
 "nbformat_minor": 0
}
