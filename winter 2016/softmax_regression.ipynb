{
 "cells": [
  {
   "cell_type": "code",
   "execution_count": 1,
   "metadata": {
    "collapsed": false
   },
   "outputs": [],
   "source": [
    "from __future__         import division\n",
    "import matplotlib.pyplot as plt\n",
    "import numpy             as np\n",
    "import array\n",
    "import math\n",
    "import struct\n",
    "\n",
    "%matplotlib inline\n",
    "\n",
    "def read_mnist(images_file, labels_file): \n",
    "    f1 = open(labels_file, 'rb')\n",
    "    magic_number, size = struct.unpack(\">II\", f1.read(8))\n",
    "    labels = array.array(\"b\", f1.read())\n",
    "    f1.close()\n",
    "    \n",
    "    f2 = open(images_file, 'rb')\n",
    "    magic_number, size, rows, cols = struct.unpack(\">IIII\", f2.read(16))\n",
    "    raw_images = array.array(\"B\", f2.read())\n",
    "    f2.close()\n",
    "\n",
    "    N = len(labels)\n",
    "    images = np.zeros((N, rows*cols), dtype=np.uint8)\n",
    "    for i in range(N):\n",
    "        images[i] = np.array(raw_images[ i*rows*cols : (i+1)*rows*cols ])\n",
    "\n",
    "    return images, labels\n",
    "\n",
    "exp_fn = np.vectorize(math.exp)\n",
    "\n",
    "def softmax_regression2(X, T, learning_rate=0.00000000001, threshold = 1):\n",
    "    weights = np.zeros((len(X[0]), Y))\n",
    "        \n",
    "def softmax_regression_gradient_descent(X, T, learning_rate=0.00000000001, threshold = 1):\n",
    "    weights = [np.zeros(len(X[0]))] * 10\n",
    "    losses = []\n",
    "    accuracy = []\n",
    "    while True:\n",
    "        loss = 0\n",
    "        A = np.array([exp_fn(np.dot(X, weights[i])) for i in range(10)])\n",
    "        Y = A\n",
    "        for n in range(len(X)):\n",
    "            sum1 = 0\n",
    "            for i in range(10):\n",
    "                sum1 += A[i][n]\n",
    "            \n",
    "            for i in range(10):\n",
    "                Y[i][n] = Y[i][n]/sum1\n",
    "                \n",
    "        for i in range(10):\n",
    "            weights[i] = weights[i] + learning_rate * np.dot(X.transpose(), T[i]-Y[i])\n",
    "        \n",
    "        for n in range(len(X)):\n",
    "            for i in range(10):\n",
    "                loss += T[i][n] * math.log(Y[i][n])\n",
    "        losses.append(loss)\n",
    "        \n",
    "        # Report the overall test accuracy.\n",
    "        error_count = 0\n",
    "        for n in range(len(X)):\n",
    "            probs = Y[:,n]\n",
    "            predicted_digit = probs.argmax()\n",
    "            if predicted_digit != labels_train[n]:\n",
    "                error_count += 1\n",
    "        accuracy.append(100 - error_count * 100/ len(X))\n",
    "        \n",
    "        # Loss chance is less than 0.1% then stop.\n",
    "        if len(losses) > 2 and math.fabs((losses[-1] - losses[-2])* 100 / losses[-2]) <= 0.1:\n",
    "            break\n",
    "\n",
    "    return weights, accuracy"
   ]
  },
  {
   "cell_type": "code",
   "execution_count": 2,
   "metadata": {
    "collapsed": false
   },
   "outputs": [],
   "source": [
    "# Read Training data.\n",
    "TRAIN_IMAGES  = \"C:\\\\Users\\\\oop\\\\Desktop\\\\Winter 2016\\\\train-images.idx3-ubyte\"\n",
    "TRAIN_LABELS  = \"C:\\\\Users\\\\oop\\\\Desktop\\\\Winter 2016\\\\train-labels.idx1-ubyte\"\n",
    "images_train, labels_train = read_mnist(TRAIN_IMAGES, TRAIN_LABELS)\n",
    "images_train, labels_train = images_train[:20000], labels_train[:20000]\n",
    "\n",
    "# Read Test data.\n",
    "TEST_IMAGES = \"C:\\\\Users\\\\oop\\\\Desktop\\\\Winter 2016\\\\t10k-images.idx3-ubyte\"\n",
    "TEST_LABELS  = \"C:\\\\Users\\\\oop\\\\Desktop\\\\Winter 2016\\\\t10k-labels.idx1-ubyte\"\n",
    "images_test, labels_test = read_mnist(TEST_IMAGES, TEST_LABELS)\n",
    "images_test, labels_test = images_test[:2000], labels_test[:2000]"
   ]
  },
  {
   "cell_type": "code",
   "execution_count": 3,
   "metadata": {
    "collapsed": false
   },
   "outputs": [],
   "source": [
    "def train():\n",
    "    T = np.array([np.array([1 if label == i else 0 for label in labels_train]) \n",
    "                  for i in range(10)])\n",
    "    X = np.array([np.insert(x, 0, 1) for x in images_train])\n",
    "    weights, accuracy = softmax_regression_gradient_descent(X, T)\n",
    "    plt.plot(range(1, len(accuracy)+1), accuracy)\n",
    "    plt.xlabel('Iterations')\n",
    "    plt.ylabel('Accuracy')\n",
    "    plt.show()\n",
    "    return weights"
   ]
  },
  {
   "cell_type": "code",
   "execution_count": 4,
   "metadata": {
    "collapsed": false
   },
   "outputs": [],
   "source": [
    "def test():\n",
    "    weights = train()\n",
    "    X = np.array([np.insert(x, 0, 1) for x in images_test])\n",
    "    A = np.array([exp_fn(np.dot(X, weights[i])) \n",
    "                  for i in range(10)])\n",
    "    Y = A\n",
    "    for n in range(len(X)):\n",
    "        sum1 = 0\n",
    "        for i in range(10):\n",
    "            sum1 += A[i][n]\n",
    "\n",
    "        for i in range(10):\n",
    "            Y[i][n] = Y[i][n]/sum1\n",
    "\n",
    "    # Report the overall test accuracy.\n",
    "    error_count = 0\n",
    "    for n in range(len(X)):\n",
    "        probs = Y[:,n]\n",
    "        #print probs\n",
    "        predicted_digit = probs.argmax()\n",
    "        if predicted_digit != labels_test[n]:\n",
    "            #print  predicted_digit, labels[n]\n",
    "            error_count += 1\n",
    "    print \"Overall test accuracy is \" + str(100 - error_count * 100/ len(X))"
   ]
  },
  {
   "cell_type": "code",
   "execution_count": 5,
   "metadata": {
    "collapsed": false
   },
   "outputs": [
    {
     "data": {
      "image/png": "[encoded data removed]",
      "text/plain": [
       "<matplotlib.figure.Figure at 0x3e32748>"
      ]
     },
     "metadata": {},
     "output_type": "display_data"
    },
    {
     "name": "stdout",
     "output_type": "stream",
     "text": [
      "Overall test accuracy is 81.05\n"
     ]
    }
   ],
   "source": [
    "test()"
   ]
  },
  {
   "cell_type": "code",
   "execution_count": null,
   "metadata": {
    "collapsed": true
   },
   "outputs": [],
   "source": []
  }
 ],
 "metadata": {
  "kernelspec": {
   "display_name": "Python 2",
   "language": "python",
   "name": "python2"
  },
  "language_info": {
   "codemirror_mode": {
    "name": "ipython",
    "version": 2
   },
   "file_extension": ".py",
   "mimetype": "text/x-python",
   "name": "python",
   "nbconvert_exporter": "python",
   "pygments_lexer": "ipython2",
   "version": "2.7.10"
  }
 },
 "nbformat": 4,
 "nbformat_minor": 0
}
