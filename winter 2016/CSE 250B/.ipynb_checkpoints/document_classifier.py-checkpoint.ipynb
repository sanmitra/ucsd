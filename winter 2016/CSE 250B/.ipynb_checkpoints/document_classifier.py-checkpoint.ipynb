{
 "cells": [
  {
   "cell_type": "code",
   "execution_count": 1,
   "metadata": {
    "collapsed": false
   },
   "outputs": [],
   "source": [
    "\"\"\"\n",
    "Text classification using multinomial Naive Bayes.\n",
    "\n",
    "Data: http://qwone.com/~jason/20Newsgroups/\n",
    "\"\"\"\n",
    "\n",
    "from __future__  import division\n",
    "from collections import defaultdict\n",
    "import numpy     as np\n",
    "import math\n",
    "\n",
    "class DocumentClassifier:\n",
    "    \n",
    "    def __init__(self, train_data_file, train_label_file, \n",
    "                 test_data_file, test_label_file, vocab_file):\n",
    "        \n",
    "        # Reading train data.\n",
    "        with open(train_data_file, \"r\") as f:\n",
    "            fn = lambda x: map(int, x.split(\" \"))\n",
    "            train_data = map(fn, filter(None, f.read().split(\"\\n\")))\n",
    "        with open(train_label_file, \"r\") as f:\n",
    "            train_label = map(int, filter(None, f.read().split(\"\\n\")))\n",
    "\n",
    "        # Reading test data.\n",
    "        with open(test_data_file, \"r\") as f:\n",
    "            fn = lambda x: map(int, x.split(\" \"))\n",
    "            test_data = defaultdict(lambda : list())\n",
    "            for data in filter(None, f.read().split(\"\\n\")):\n",
    "                data = map(int, data.split(\" \"))\n",
    "                test_data[data[0]].append([data[1], data[2]])\n",
    "        with open(test_label_file, \"r\") as f:\n",
    "            test_label = map(int, filter(None, f.read().split(\"\\n\")))\n",
    "\n",
    "        with open(vocab_file, \"r\") as f:\n",
    "            vocab = f.read().split(\"\\n\")\n",
    "        \n",
    "        # Instance data.\n",
    "        self.train_data = train_data\n",
    "        self.train_label = train_label\n",
    "        self.test_data = test_data\n",
    "        self.test_label = test_label\n",
    "        self.vocab = vocab\n",
    "        self.class_doc_prob, self.class_word_prob = \\\n",
    "            self.get_smooth_probabilities_from_train_data()\n",
    "        self.classes = self.class_doc_prob.keys()\n",
    "        \n",
    "    def get_smooth_probabilities_from_train_data(self):\n",
    "        \"\"\"\n",
    "        # Calculate smooth probabilities.\n",
    "        # i ) πj , the fraction of documents that belong to that class;\n",
    "        # ii) Pj , a probability distribution over V that models the documents of that class.\n",
    "        \"\"\"\n",
    "        class_doc_count = defaultdict(int)\n",
    "        for cls in self.train_label:\n",
    "            class_doc_count[cls] += 1\n",
    "\n",
    "        class_word_count = defaultdict(lambda : defaultdict(int))\n",
    "        for data in self.train_data:\n",
    "            docid, wordid, word_count = data\n",
    "            cls = self.train_label[docid-1]\n",
    "            class_word_count[cls][wordid] += word_count\n",
    "\n",
    "        class_doc_prob = defaultdict(float)\n",
    "        class_word_prob = defaultdict(lambda : defaultdict(float))\n",
    "\n",
    "        # Calculating pi for each newspaper(class).\n",
    "        no_docs = sum(class_doc_count.values())\n",
    "        for cls, doc_count in class_doc_count.items():\n",
    "            class_doc_prob[cls] = doc_count / no_docs\n",
    "\n",
    "        # Calculating pi for each word belonging to a particular newspaper(class).\n",
    "        for cls in class_word_count:\n",
    "            no_of_words_cls = sum(class_word_count[cls].values())\n",
    "            for wordid in range(1, len(self.vocab) + 1):\n",
    "                class_word_prob[cls][wordid] = (class_word_count[cls][wordid] + 1) / ( no_of_words_cls + 2)\n",
    "        return class_doc_prob, class_word_prob\n",
    "    \n",
    "    def get_probability_of_doc(self, cls, doc_details):\n",
    "        \"\"\"\n",
    "        Get the probability of a document \n",
    "        belonging to a given class.\n",
    "        \"\"\"\n",
    "        prob = math.log(self.class_doc_prob[cls]) \n",
    "        for wordid, count in doc_details:\n",
    "            prob += count * math.log(self.class_word_prob[cls][wordid])\n",
    "        return prob\n",
    "\n",
    "    def predict_class_of_doc(self, doc_details):\n",
    "        \"\"\"\n",
    "        Predicts the class using unigram model given a doc details.\n",
    "        \"\"\"\n",
    "        probs = np.array([self.get_probability_of_doc(cls, doc_details) \n",
    "                          for cls in self.classes])\n",
    "        predicted_class = self.classes[probs.argmax()]\n",
    "        return predicted_class\n",
    "\n",
    "    def test_accuracy(self):\n",
    "        error_count = 0\n",
    "        for docid, doc_details in self.test_data.items():\n",
    "            predicted_class = self.predict_class_of_doc(doc_details)\n",
    "            true_class = self.test_label[docid-1]\n",
    "            if predicted_class != true_class:\n",
    "                error_count += 1\n",
    "\n",
    "        print \"Error is %.2f \" %(error_count * 100 /len(self.test_label))"
   ]
  },
  {
   "cell_type": "code",
   "execution_count": 2,
   "metadata": {
    "collapsed": false
   },
   "outputs": [
    {
     "name": "stdout",
     "output_type": "stream",
     "text": [
      "Error is 22.24 \n"
     ]
    }
   ],
   "source": [
    "classifier = DocumentClassifier(\"train.data\", \"train.label\", \n",
    "                                \"test.data\", \"test.label\",\n",
    "                                \"vocabulary.txt\")\n",
    "classifier.test_accuracy()"
   ]
  },
  {
   "cell_type": "code",
   "execution_count": null,
   "metadata": {
    "collapsed": true
   },
   "outputs": [],
   "source": []
  }
 ],
 "metadata": {
  "kernelspec": {
   "display_name": "Python 2",
   "language": "python",
   "name": "python2"
  },
  "language_info": {
   "codemirror_mode": {
    "name": "ipython",
    "version": 2
   },
   "file_extension": ".py",
   "mimetype": "text/x-python",
   "name": "python",
   "nbconvert_exporter": "python",
   "pygments_lexer": "ipython2",
   "version": "2.7.10"
  }
 },
 "nbformat": 4,
 "nbformat_minor": 0
}
