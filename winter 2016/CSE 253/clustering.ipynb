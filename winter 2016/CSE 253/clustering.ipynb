{
 "cells": [
  {
   "cell_type": "code",
   "execution_count": 35,
   "metadata": {
    "collapsed": false
   },
   "outputs": [],
   "source": [
    "path = \"C:\\Users\\oop\\Desktop\\Winter 2016\\cse 250B\\AwA-base\\Animals_with_Attributes\""
   ]
  },
  {
   "cell_type": "code",
   "execution_count": 36,
   "metadata": {
    "collapsed": false
   },
   "outputs": [],
   "source": [
    "with open(path + \"\\predicate-matrix-continuous.txt\") as f:\n",
    "    lines = f.read().split(\"\\n\")"
   ]
  },
  {
   "cell_type": "code",
   "execution_count": 37,
   "metadata": {
    "collapsed": false
   },
   "outputs": [],
   "source": [
    "data = [map(float, filter(None, line.split(\" \"))) for line in lines if line]"
   ]
  },
  {
   "cell_type": "code",
   "execution_count": 38,
   "metadata": {
    "collapsed": false
   },
   "outputs": [],
   "source": [
    "from sklearn.cluster import KMeans"
   ]
  },
  {
   "cell_type": "code",
   "execution_count": 39,
   "metadata": {
    "collapsed": true
   },
   "outputs": [],
   "source": [
    "kmeans = KMeans(n_clusters=10)"
   ]
  },
  {
   "cell_type": "code",
   "execution_count": 40,
   "metadata": {
    "collapsed": false
   },
   "outputs": [
    {
     "data": {
      "text/plain": [
       "array([1, 6, 2, 3, 9, 9, 5, 0, 2, 9, 3, 3, 0, 8, 0, 1, 4, 2, 8, 4, 5, 0, 5,\n",
       "       2, 4, 3, 3, 8, 3, 7, 1, 0, 9, 3, 0, 2, 5, 5, 9, 1, 0, 5, 0, 3, 6, 9,\n",
       "       2, 3, 5, 2])"
      ]
     },
     "execution_count": 40,
     "metadata": {},
     "output_type": "execute_result"
    }
   ],
   "source": [
    "clusters = kmeans.fit_predict(data)\n",
    "clusters"
   ]
  },
  {
   "cell_type": "code",
   "execution_count": 41,
   "metadata": {
    "collapsed": false
   },
   "outputs": [],
   "source": [
    "with open(path + \"\\classes.txt\") as f:\n",
    "    animals = f.read().split(\"\\n\")"
   ]
  },
  {
   "cell_type": "code",
   "execution_count": 42,
   "metadata": {
    "collapsed": false
   },
   "outputs": [
    {
     "name": "stdout",
     "output_type": "stream",
     "text": [
      "Cluster 0 :\\\\\n",
      "\tgerman+shepherd,\n",
      "\ttiger,\n",
      "\tleopard,\n",
      "\tfox,\n",
      "\twolf,\n",
      "\tweasel,\n",
      "\tbobcat,\n",
      "\tlion,\n",
      "Cluster 1 :\\\\\n",
      "\tantelope,\n",
      "\tmoose,\n",
      "\tgiraffe,\n",
      "\tdeer,\n",
      "Cluster 2 :\\\\\n",
      "\tkiller+whale,\n",
      "\tblue+whale,\n",
      "\thumpback+whale,\n",
      "\tseal,\n",
      "\totter,\n",
      "\twalrus,\n",
      "\tdolphin,\n",
      "Cluster 3 :\\\\\n",
      "\tbeaver,\n",
      "\tskunk,\n",
      "\tmole,\n",
      "\thamster,\n",
      "\tsquirrel,\n",
      "\trabbit,\n",
      "\trat,\n",
      "\tmouse,\n",
      "\traccoon,\n",
      "Cluster 4 :\\\\\n",
      "\tspider+monkey,\n",
      "\tgorilla,\n",
      "\tchimpanzee,\n",
      "Cluster 5 :\\\\\n",
      "\thorse,\n",
      "\tox,\n",
      "\tsheep,\n",
      "\tbuffalo,\n",
      "\tzebra,\n",
      "\tpig,\n",
      "\tcow,\n",
      "Cluster 6 :\\\\\n",
      "\tgrizzly+bear,\n",
      "\tpolar+bear,\n",
      "Cluster 7 :\\\\\n",
      "\tbat,\n",
      "Cluster 8 :\\\\\n",
      "\thippopotamus,\n",
      "\telephant,\n",
      "\trhinoceros,\n",
      "Cluster 9 :\\\\\n",
      "\tdalmatian,\n",
      "\tpersian+cat,\n",
      "\tsiamese+cat,\n",
      "\tchihuahua,\n",
      "\tgiant+panda,\n",
      "\tcollie,\n"
     ]
    }
   ],
   "source": [
    "for i in range(10):\n",
    "    print \"Cluster \" + str(i) + \" :\\\\\\\\\"\n",
    "    for index, cluster in enumerate(clusters):\n",
    "        if cluster == i:\n",
    "            print \"\\t\" + animals[index].split(\"\\t\")[1] + \",\""
   ]
  },
  {
   "cell_type": "code",
   "execution_count": 43,
   "metadata": {
    "collapsed": false
   },
   "outputs": [],
   "source": [
    "from scipy.cluster.hierarchy import dendrogram, linkage\n",
    "import matplotlib.pyplot as plt\n",
    "from scipy.spatial.distance import pdist\n",
    "from pylab import rcParams\n",
    "\n",
    "%matplotlib inline\n",
    "\n",
    "diagram = dendrogram(linkage(data, method='average'), leaf_label_func=lambda id : animals[id].split(\"\\t\")[1], orientation='right')\n",
    "rcParams['figure.figsize'] = 5, 10\n",
    "plt.tight_layout()\n",
    "plt.savefig(\"heirarch.png\")"
   ]
  },
  {
   "cell_type": "code",
   "execution_count": 44,
   "metadata": {
    "collapsed": false
   },
   "outputs": [
    {
     "name": "stderr",
     "output_type": "stream",
     "text": [
      "C:\\Anaconda\\lib\\site-packages\\matplotlib\\collections.py:590: FutureWarning: elementwise comparison failed; returning scalar instead, but in the future will perform elementwise comparison\n",
      "  if self._edgecolors == str('face'):\n"
     ]
    },
    {
     "data": {
      "image/png": "[encoded data removed]",
      "text/plain": [
       "<matplotlib.figure.Figure at 0x70a9fd0>"
      ]
     },
     "metadata": {},
     "output_type": "display_data"
    }
   ],
   "source": [
    "diagram = dendrogram(linkage(data, method='average'), leaf_label_func=lambda id : animals[id].split(\"\\t\")[1], orientation='right')\n",
    "rcParams['figure.figsize'] = 5, 10\n",
    "plt.tight_layout()\n",
    "plt.savefig(\"heirarch.png\")"
   ]
  },
  {
   "cell_type": "code",
   "execution_count": 45,
   "metadata": {
    "collapsed": false
   },
   "outputs": [],
   "source": [
    "kmeans = KMeans(n_clusters=3)"
   ]
  },
  {
   "cell_type": "code",
   "execution_count": 46,
   "metadata": {
    "collapsed": false
   },
   "outputs": [
    {
     "data": {
      "text/plain": [
       "array([1, 1, 0, 2, 2])"
      ]
     },
     "execution_count": 46,
     "metadata": {},
     "output_type": "execute_result"
    }
   ],
   "source": [
    "kmeans.fit_predict([[-10], [-8], [0], [8], [10]])"
   ]
  },
  {
   "cell_type": "code",
   "execution_count": 47,
   "metadata": {
    "collapsed": false
   },
   "outputs": [
    {
     "data": {
      "text/plain": [
       "array([[ 0.],\n",
       "       [-9.],\n",
       "       [ 9.]])"
      ]
     },
     "execution_count": 47,
     "metadata": {},
     "output_type": "execute_result"
    }
   ],
   "source": [
    "kmeans.cluster_centers_"
   ]
  },
  {
   "cell_type": "code",
   "execution_count": 48,
   "metadata": {
    "collapsed": false
   },
   "outputs": [
    {
     "ename": "SyntaxError",
     "evalue": "invalid syntax (<ipython-input-48-fb9bab44e964>, line 1)",
     "output_type": "error",
     "traceback": [
      "\u001b[1;36m  File \u001b[1;32m\"<ipython-input-48-fb9bab44e964>\"\u001b[1;36m, line \u001b[1;32m1\u001b[0m\n\u001b[1;33m    −10, −8, 0, 8, 10\u001b[0m\n\u001b[1;37m    ^\u001b[0m\n\u001b[1;31mSyntaxError\u001b[0m\u001b[1;31m:\u001b[0m invalid syntax\n"
     ]
    }
   ],
   "source": [
    "−10, −8, 0, 8, 10"
   ]
  },
  {
   "cell_type": "code",
   "execution_count": null,
   "metadata": {
    "collapsed": false
   },
   "outputs": [],
   "source": [
    "import random\n",
    "\n",
    "rcParams['figure.figsize'] = 15, 20\n",
    "\n",
    "from sklearn.decomposition import PCA\n",
    "pca = PCA(n_components=2)\n",
    "data_pca = pca.fit_transform(data)\n",
    "\n",
    "animal_names = [animal.split(\"\\t\")[1] for animal in animals if animal]\n",
    "\n",
    "plt.scatter(data_pca[:, 0], data_pca[:, 1])\n",
    "\n",
    "for label, x, y in zip(animal_names, data_pca[:, 0], data_pca[:, 1]):\n",
    "    plt.annotate(label, xy = (x, y),\n",
    "                 ha = random.choice(['right', 'left']),\n",
    "                 fontsize=15)\n",
    "plt.savefig(\"PCA.png\")\n",
    "plt.show()"
   ]
  },
  {
   "cell_type": "code",
   "execution_count": null,
   "metadata": {
    "collapsed": false
   },
   "outputs": [],
   "source": [
    "import numpy as np\n",
    "a = np.array([-10,8,10,20])\n",
    "print a.mean()\n",
    "print (a - a.mean())\n",
    "print (a - 9)\n",
    "print sum([abs(x) for x in (a - a.mean())])\n",
    "print sum([abs(x) for x in (a - 7.5)])"
   ]
  },
  {
   "cell_type": "code",
   "execution_count": null,
   "metadata": {
    "collapsed": false
   },
   "outputs": [],
   "source": [
    "a.mean()"
   ]
  },
  {
   "cell_type": "code",
   "execution_count": null,
   "metadata": {
    "collapsed": false
   },
   "outputs": [],
   "source": [
    "sum(a-a.mean())"
   ]
  },
  {
   "cell_type": "code",
   "execution_count": null,
   "metadata": {
    "collapsed": false
   },
   "outputs": [],
   "source": [
    "(a-a.mean()).sum()"
   ]
  },
  {
   "cell_type": "code",
   "execution_count": null,
   "metadata": {
    "collapsed": false
   },
   "outputs": [],
   "source": []
  },
  {
   "cell_type": "code",
   "execution_count": null,
   "metadata": {
    "collapsed": false
   },
   "outputs": [],
   "source": []
  },
  {
   "cell_type": "code",
   "execution_count": null,
   "metadata": {
    "collapsed": false
   },
   "outputs": [],
   "source": []
  },
  {
   "cell_type": "code",
   "execution_count": null,
   "metadata": {
    "collapsed": true
   },
   "outputs": [],
   "source": []
  }
 ],
 "metadata": {
  "kernelspec": {
   "display_name": "Python 2",
   "language": "python",
   "name": "python2"
  },
  "language_info": {
   "codemirror_mode": {
    "name": "ipython",
    "version": 2
   },
   "file_extension": ".py",
   "mimetype": "text/x-python",
   "name": "python",
   "nbconvert_exporter": "python",
   "pygments_lexer": "ipython2",
   "version": "2.7.11"
  }
 },
 "nbformat": 4,
 "nbformat_minor": 0
}
